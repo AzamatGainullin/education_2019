{
 "cells": [
  {
   "cell_type": "code",
   "execution_count": 1,
   "metadata": {},
   "outputs": [],
   "source": [
    "import pandas as pd\n",
    "import numpy as np\n",
    "import datetime\n",
    "import iexfinance\n",
    "from iexfinance.stocks import get_historical_intraday\n",
    "from sklearn.externals import joblib"
   ]
  },
  {
   "cell_type": "markdown",
   "metadata": {},
   "source": [
    "# Testdata_download_from_iex"
   ]
  },
  {
   "cell_type": "code",
   "execution_count": 2,
   "metadata": {},
   "outputs": [],
   "source": [
    "def get_sp500(k=3):\n",
    "    sp500=pd.read_excel('C:/Users/user/Documents/Модуль биржа по фракталам/sp500_symbols.xlsx')\n",
    "    sp500=list(sp500['symbol'])\n",
    "    return sp500[1:len(sp500):k]\n",
    "\n",
    "def testdata_download_from_iex(start_day, end_day):\n",
    "    dti=pd.date_range(start_day,end_day, freq='B')\n",
    "    sp500=get_sp500(k=3)\n",
    "    for date in dti:\n",
    "        print(date)\n",
    "        companies={}\n",
    "        for i in sp500:\n",
    "            try:\n",
    "                companies[i]=get_historical_intraday(symbol=i, date=date, output_format='pandas', token=\"sk_1dfa8856748344d293525acdfbfb0835\")\n",
    "            except:\n",
    "                pass\n",
    "\n",
    "        for i in companies.keys():\n",
    "            try:\n",
    "                companies[i].to_excel('C:/Users/user/Documents/Модуль биржа по фракталам/iex_intraday/'+str(i)+'_'+str(date)[:-9]+'.xlsx')\n",
    "            except:\n",
    "                pass"
   ]
  },
  {
   "cell_type": "code",
   "execution_count": null,
   "metadata": {
    "collapsed": true
   },
   "outputs": [
    {
     "name": "stdout",
     "output_type": "stream",
     "text": [
      "2019-07-03 00:00:00\n",
      "2019-07-04 00:00:00\n",
      "2019-07-05 00:00:00\n",
      "2019-07-08 00:00:00\n",
      "2019-07-09 00:00:00\n",
      "2019-07-10 00:00:00\n",
      "2019-07-11 00:00:00\n"
     ]
    }
   ],
   "source": [
    "testdata_download_from_iex(start_day=datetime.datetime(2019,7,3),\n",
    "                           end_day=datetime.datetime(2019,7,10))\n"
   ]
  },
  {
   "cell_type": "markdown",
   "metadata": {},
   "source": [
    "# Recommends"
   ]
  },
  {
   "cell_type": "code",
   "execution_count": 2,
   "metadata": {},
   "outputs": [],
   "source": [
    "ready_dataset_for_marking = pd.read_excel('ready_dataset_for_marking_last.xlsx')"
   ]
  },
  {
   "cell_type": "code",
   "execution_count": 3,
   "metadata": {},
   "outputs": [
    {
     "name": "stderr",
     "output_type": "stream",
     "text": [
      "c:\\users\\user\\appdata\\local\\programs\\python\\python37\\lib\\site-packages\\ipykernel_launcher.py:2: DataConversionWarning: Data with input dtype int64, float64 were all converted to float64 by StandardScaler.\n",
      "  \n"
     ]
    }
   ],
   "source": [
    "scaler = joblib.load('scaler_best.pkl')\n",
    "X_real_test = scaler.transform(ready_dataset_for_marking)\n",
    "\n",
    "xgb_clf_from_disk = joblib.load('xgb_clf_best.pkl')\n",
    "forest_clf_from_disk = joblib.load('forest_clf_best.pkl')\n",
    "gboost_clf_from_disk = joblib.load('gboost_clf_best.pkl')\n",
    "bernoulli_clf_from_disk = joblib.load('bernoulli_clf_best.pkl')\n",
    "xgb_clf_for_df_predictions_from_disk = joblib.load('xgb_clf_for_df_predictions_best.pkl')"
   ]
  },
  {
   "cell_type": "code",
   "execution_count": 4,
   "metadata": {},
   "outputs": [],
   "source": [
    "models = [xgb_clf_from_disk, forest_clf_from_disk, gboost_clf_from_disk, bernoulli_clf_from_disk]\n",
    "dict_predict = {}\n",
    "for model in models:\n",
    "    y_test_pred = model.predict_proba(X_real_test)\n",
    "    dict_predict[str(model)[:9]+' proba_0'] = np.array([i[0] for i in y_test_pred])\n",
    "    dict_predict[str(model)[:9]+' proba_1'] = np.array([i[1] for i in y_test_pred])\n",
    "    dict_predict[str(model)[:9]+' proba_2'] = np.array([i[2] for i in y_test_pred])\n",
    "df_predictions = pd.DataFrame(dict_predict, index=ready_dataset_for_marking.index)"
   ]
  },
  {
   "cell_type": "code",
   "execution_count": 6,
   "metadata": {},
   "outputs": [],
   "source": [
    "y_test_pred = xgb_clf_for_df_predictions_from_disk.predict(df_predictions)\n",
    "y_test_pred_proba = xgb_clf_for_df_predictions_from_disk.predict_proba(df_predictions)"
   ]
  },
  {
   "cell_type": "code",
   "execution_count": 7,
   "metadata": {},
   "outputs": [
    {
     "data": {
      "text/html": [
       "<div>\n",
       "<style scoped>\n",
       "    .dataframe tbody tr th:only-of-type {\n",
       "        vertical-align: middle;\n",
       "    }\n",
       "\n",
       "    .dataframe tbody tr th {\n",
       "        vertical-align: top;\n",
       "    }\n",
       "\n",
       "    .dataframe thead th {\n",
       "        text-align: right;\n",
       "    }\n",
       "</style>\n",
       "<table border=\"1\" class=\"dataframe\">\n",
       "  <thead>\n",
       "    <tr style=\"text-align: right;\">\n",
       "      <th></th>\n",
       "      <th>predictions</th>\n",
       "      <th>predictions_proba_for_2</th>\n",
       "    </tr>\n",
       "  </thead>\n",
       "  <tbody>\n",
       "    <tr>\n",
       "      <th>2019-03-29 15:00:00</th>\n",
       "      <td>2</td>\n",
       "      <td>0.533830</td>\n",
       "    </tr>\n",
       "    <tr>\n",
       "      <th>2019-04-04 12:00:00</th>\n",
       "      <td>2</td>\n",
       "      <td>0.641920</td>\n",
       "    </tr>\n",
       "    <tr>\n",
       "      <th>2019-04-04 15:00:00</th>\n",
       "      <td>2</td>\n",
       "      <td>0.566012</td>\n",
       "    </tr>\n",
       "    <tr>\n",
       "      <th>2019-04-05 12:00:00</th>\n",
       "      <td>2</td>\n",
       "      <td>0.681404</td>\n",
       "    </tr>\n",
       "    <tr>\n",
       "      <th>2019-04-05 13:00:00</th>\n",
       "      <td>2</td>\n",
       "      <td>0.593011</td>\n",
       "    </tr>\n",
       "    <tr>\n",
       "      <th>2019-04-23 11:00:00</th>\n",
       "      <td>2</td>\n",
       "      <td>0.482617</td>\n",
       "    </tr>\n",
       "    <tr>\n",
       "      <th>2019-05-16 14:00:00</th>\n",
       "      <td>2</td>\n",
       "      <td>0.558821</td>\n",
       "    </tr>\n",
       "    <tr>\n",
       "      <th>2019-05-21 10:00:00</th>\n",
       "      <td>2</td>\n",
       "      <td>0.655312</td>\n",
       "    </tr>\n",
       "    <tr>\n",
       "      <th>2019-06-13 11:00:00</th>\n",
       "      <td>2</td>\n",
       "      <td>0.491199</td>\n",
       "    </tr>\n",
       "    <tr>\n",
       "      <th>2019-06-13 14:00:00</th>\n",
       "      <td>2</td>\n",
       "      <td>0.727209</td>\n",
       "    </tr>\n",
       "    <tr>\n",
       "      <th>2019-06-13 16:00:00</th>\n",
       "      <td>2</td>\n",
       "      <td>0.690642</td>\n",
       "    </tr>\n",
       "    <tr>\n",
       "      <th>2019-06-14 11:00:00</th>\n",
       "      <td>2</td>\n",
       "      <td>0.350836</td>\n",
       "    </tr>\n",
       "  </tbody>\n",
       "</table>\n",
       "</div>"
      ],
      "text/plain": [
       "                     predictions  predictions_proba_for_2\n",
       "2019-03-29 15:00:00            2                 0.533830\n",
       "2019-04-04 12:00:00            2                 0.641920\n",
       "2019-04-04 15:00:00            2                 0.566012\n",
       "2019-04-05 12:00:00            2                 0.681404\n",
       "2019-04-05 13:00:00            2                 0.593011\n",
       "2019-04-23 11:00:00            2                 0.482617\n",
       "2019-05-16 14:00:00            2                 0.558821\n",
       "2019-05-21 10:00:00            2                 0.655312\n",
       "2019-06-13 11:00:00            2                 0.491199\n",
       "2019-06-13 14:00:00            2                 0.727209\n",
       "2019-06-13 16:00:00            2                 0.690642\n",
       "2019-06-14 11:00:00            2                 0.350836"
      ]
     },
     "execution_count": 7,
     "metadata": {},
     "output_type": "execute_result"
    }
   ],
   "source": [
    "df=pd.DataFrame({'predictions':y_test_pred,'predictions_proba_for_2':[i[2] for i in y_test_pred_proba]}, index=ready_dataset_for_marking.index)\n",
    "df[df.predictions==2]"
   ]
  },
  {
   "cell_type": "markdown",
   "metadata": {},
   "source": [
    "# Одна бумага сыграла роль в погрешности по точности.В общем, надо работать с 500-а бумагами. И скорее всего, персонально\n"
   ]
  }
 ],
 "metadata": {
  "kernelspec": {
   "display_name": "Python 3",
   "language": "python",
   "name": "python3"
  },
  "language_info": {
   "codemirror_mode": {
    "name": "ipython",
    "version": 3
   },
   "file_extension": ".py",
   "mimetype": "text/x-python",
   "name": "python",
   "nbconvert_exporter": "python",
   "pygments_lexer": "ipython3",
   "version": "3.7.1"
  }
 },
 "nbformat": 4,
 "nbformat_minor": 2
}
