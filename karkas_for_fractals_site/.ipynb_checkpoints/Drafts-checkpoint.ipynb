{
 "cells": [
  {
   "cell_type": "code",
   "execution_count": 1,
   "metadata": {},
   "outputs": [
    {
     "name": "stderr",
     "output_type": "stream",
     "text": [
      "c:\\users\\user\\appdata\\local\\programs\\python\\python37\\lib\\site-packages\\sklearn\\externals\\joblib\\__init__.py:15: DeprecationWarning: sklearn.externals.joblib is deprecated in 0.21 and will be removed in 0.23. Please import this functionality directly from joblib, which can be installed with: pip install joblib. If this warning is raised when loading pickled models, you may need to re-serialize those models with scikit-learn 0.21+.\n",
      "  warnings.warn(msg, category=DeprecationWarning)\n"
     ]
    }
   ],
   "source": [
    "import pandas as pd\n",
    "import numpy as np\n",
    "from sklearn.externals import joblib"
   ]
  },
  {
   "cell_type": "code",
   "execution_count": 2,
   "metadata": {},
   "outputs": [],
   "source": [
    "traindata_standard=joblib.load('traindata_standard_03_07_2019__10_07_2019.pkl')"
   ]
  },
  {
   "cell_type": "markdown",
   "metadata": {},
   "source": [
    "# ЗАПИСЬ ИЗ ДАТАФРЕЙМА В БАЗУ ДАННЫХ НА ЖЕСТКОМ ДИСКЕ"
   ]
  },
  {
   "cell_type": "code",
   "execution_count": 3,
   "metadata": {},
   "outputs": [
    {
     "name": "stderr",
     "output_type": "stream",
     "text": [
      "c:\\users\\user\\appdata\\local\\programs\\python\\python37\\lib\\site-packages\\flask_sqlalchemy\\__init__.py:835: FSADeprecationWarning: SQLALCHEMY_TRACK_MODIFICATIONS adds significant overhead and will be disabled by default in the future.  Set it to True or False to suppress this warning.\n",
      "  'SQLALCHEMY_TRACK_MODIFICATIONS adds significant overhead and '\n"
     ]
    }
   ],
   "source": [
    "from flask import Flask\n",
    "from flask_sqlalchemy import SQLAlchemy\n",
    "\n",
    "app = Flask(__name__)\n",
    "app.config['SQLALCHEMY_DATABASE_URI'] = 'sqlite:///test.db'\n",
    "db = SQLAlchemy(app)\n",
    "\n",
    "\n",
    "class ITEMS(db.Model):\n",
    "    id = db.Column(db.Integer, primary_key=True)\n",
    "    Date = db.Column(db.DateTime, nullable=False)\n",
    "    High = db.Column(db.FLOAT, unique=False, nullable=False)\n",
    "    Low = db.Column(db.FLOAT, unique=False, nullable=False)\n",
    "    company = db.Column(db.String(80), unique=False, nullable=False)\n",
    "    def __repr__(self):\n",
    "        #return '<company %r>' % self.company\n",
    "        #return (self.Date, self.High, self.Low, self.company)\n",
    "        return \"(%r, %r, %r, %r)\" % (self.Date, self.High, self.Low, self.company)\n",
    "    def to_dict(self):\n",
    "        return {'Date':self.Date, 'High':self.High, 'Low':self.Low,\n",
    "               'company':self.company}"
   ]
  },
  {
   "cell_type": "code",
   "execution_count": 4,
   "metadata": {},
   "outputs": [],
   "source": [
    "#db.create_all()"
   ]
  },
  {
   "cell_type": "code",
   "execution_count": 5,
   "metadata": {},
   "outputs": [],
   "source": [
    "#for firm in list(traindata_standard.keys()):\n",
    "#    df = traindata_standard[firm]\n",
    "#    for i in range(len(df)):\n",
    "#        item = ITEMS(Date=df.index[i], High=df['High'][i],\n",
    " #                  Low=df['Low'][i], company=df['company'][i])\n",
    " #       db.session.add(item)\n",
    "#db.session.commit()"
   ]
  },
  {
   "cell_type": "code",
   "execution_count": 8,
   "metadata": {},
   "outputs": [],
   "source": [
    "objects = []\n",
    "for firm in list(traindata_standard.keys()):\n",
    "    df = traindata_standard[firm]\n",
    "    for i in range(len(df)):\n",
    "        item = ITEMS(Date=df.index[i], High=df['High'][i],\n",
    "                   Low=df['Low'][i], company=df['company'][i])\n",
    "        objects.append(item)"
   ]
  },
  {
   "cell_type": "code",
   "execution_count": 11,
   "metadata": {},
   "outputs": [],
   "source": [
    "db.session.bulk_save_objects(objects)\n",
    "db.session.commit()"
   ]
  },
  {
   "cell_type": "markdown",
   "metadata": {},
   "source": [
    "# ВОССТАНОВЛЕНИЕ ИЗ БАЗЫ ДАННЫХ ОБРАТНО В ДАТАФРЕЙМ"
   ]
  },
  {
   "cell_type": "code",
   "execution_count": 4,
   "metadata": {},
   "outputs": [],
   "source": [
    "item = ITEMS.query.filter_by(company='FBHS').all()"
   ]
  },
  {
   "cell_type": "code",
   "execution_count": 5,
   "metadata": {},
   "outputs": [],
   "source": [
    "example = pd.DataFrame([i.to_dict() for i in item])\n",
    "example.index = example['Date']\n",
    "example.drop('Date',axis=1,inplace=True)"
   ]
  },
  {
   "cell_type": "code",
   "execution_count": 7,
   "metadata": {
    "scrolled": true
   },
   "outputs": [],
   "source": [
    "ex = example.head()"
   ]
  }
 ],
 "metadata": {
  "kernelspec": {
   "display_name": "Python 3",
   "language": "python",
   "name": "python3"
  },
  "language_info": {
   "codemirror_mode": {
    "name": "ipython",
    "version": 3
   },
   "file_extension": ".py",
   "mimetype": "text/x-python",
   "name": "python",
   "nbconvert_exporter": "python",
   "pygments_lexer": "ipython3",
   "version": "3.7.1"
  }
 },
 "nbformat": 4,
 "nbformat_minor": 2
}
