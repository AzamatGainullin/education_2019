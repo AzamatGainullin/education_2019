{
 "cells": [
  {
   "cell_type": "code",
   "execution_count": 1,
   "metadata": {},
   "outputs": [],
   "source": [
    "import requests\n",
    "from bs4 import BeautifulSoup\n",
    "import pandas as pd"
   ]
  },
  {
   "cell_type": "code",
   "execution_count": 10,
   "metadata": {},
   "outputs": [],
   "source": [
    "def get_html(url):\n",
    "    r = requests.get(url)\n",
    "    return r.text\n",
    "def get_total_pages(html):\n",
    "    soup = BeautifulSoup(html, 'lxml')\n",
    "    pages = soup.find('div', class_='search-result-paging').find_all('a')\n",
    "    total_pages = pages[-2].get('href').split('/')[-2]\n",
    "    return int(total_pages)\n",
    "def get_page_data(html):\n",
    "    soup = BeautifulSoup(html, 'lxml')\n",
    "    ads = soup.find('div', class_='main-wrap__content').find_all('div', class_='company-item')\n",
    "    spisok = []\n",
    "    for ad in ads:\n",
    "        \n",
    "        try:\n",
    "            title = ad.find('div', class_='company-item__title').find('a').text.strip()\n",
    "        except:\n",
    "            title = ''\n",
    "        try:\n",
    "            url = 'https://www.rusprofile.ru'+str(ad.find('div', class_='company-item__title').find('a').get('href'))\n",
    "        except:\n",
    "            url = ''\n",
    "        try:\n",
    "            address = ad.find('address').text.strip()\n",
    "        except:\n",
    "            address = ''\n",
    "        ad_subs = ad.find_all('div', class_='company-item-info')\n",
    "        try:\n",
    "            manager = ad_subs[0].find('dt').text\n",
    "        except:\n",
    "            manager = ''\n",
    "        try:\n",
    "            manager_name = ad_subs[0].find('dd').text\n",
    "        except:\n",
    "            manager_name = ''\n",
    "        try:\n",
    "            INN = ad_subs[1].find('dt').text\n",
    "        except:\n",
    "            INN = ''\n",
    "        try:\n",
    "            INN_value = ad_subs[1].find('dd').text\n",
    "        except:\n",
    "            INN_value = ''\n",
    "        try:\n",
    "            dealing = ad_subs[2].find('dt').text\n",
    "        except:\n",
    "            dealing = ''\n",
    "        try:\n",
    "            okved = ad_subs[2].find('dd').text\n",
    "        except:\n",
    "            okved = ''\n",
    "        \n",
    "\n",
    "        data = {'Название компании': title, 'URL-адрес': url,\n",
    "               'Адрес': address, 'Руководитель': manager,\n",
    "                'ФИО руководителя': manager_name,\n",
    "                'Идентификатор': INN, 'ИНН': INN_value,\n",
    "                'Вид деятельности': dealing, 'ОКВЭД': okved}\n",
    "        spisok.append(data)\n",
    "        \n",
    "        \n",
    "    return spisok"
   ]
  },
  {
   "cell_type": "code",
   "execution_count": 94,
   "metadata": {},
   "outputs": [],
   "source": [
    "def main():\n",
    "    url = 'https://www.rusprofile.ru/codes/683210/moskva'\n",
    "    base_url = 'https://www.rusprofile.ru/codes/683210/moskva/'\n",
    "    total_pages = get_total_pages(get_html(url))\n",
    "    spisok = []\n",
    "    for i in range(1, 3):\n",
    "        url_gen = base_url + str(i)\n",
    "        html = get_html(url_gen)\n",
    "        spisok.extend(get_page_data(html))\n",
    "    return spisok"
   ]
  },
  {
   "cell_type": "code",
   "execution_count": 95,
   "metadata": {},
   "outputs": [],
   "source": [
    "okved_683210_moskva = pd.DataFrame(main())\n",
    "okved_683210_moskva.to_excel('okved_683210_moskva.xlsx')"
   ]
  },
  {
   "cell_type": "code",
   "execution_count": null,
   "metadata": {},
   "outputs": [],
   "source": []
  },
  {
   "cell_type": "code",
   "execution_count": 2,
   "metadata": {},
   "outputs": [],
   "source": [
    "okved_683210_moskva = pd.read_excel('okved_683210_moskva.xlsx')"
   ]
  },
  {
   "cell_type": "code",
   "execution_count": 32,
   "metadata": {},
   "outputs": [],
   "source": [
    "urls = okved_683210_moskva['URL-адрес']"
   ]
  },
  {
   "cell_type": "code",
   "execution_count": 35,
   "metadata": {},
   "outputs": [],
   "source": [
    "spisok = []\n",
    "for url in urls:\n",
    "    html = get_html(url)\n",
    "    soup = BeautifulSoup(html, 'lxml')\n",
    "    try:\n",
    "        ads = soup.find_all('div', class_='change-item')\n",
    "        for ad in ads:\n",
    "            date_change = ad.find('div', class_='change-item__date').text\n",
    "            text_change = ad.find('div', class_='change-item__text').text.strip()\n",
    "            data = {'URL-адрес': url, 'Дата изменений': date_change, 'Текст изменений': text_change}\n",
    "            spisok.append(data)\n",
    "    except:\n",
    "        pass\n",
    "changes_in_okved_683210_moskva = pd.DataFrame(spisok)\n",
    "changes_in_okved_683210_moskva.to_excel('changes_in_okved_683210_moskva.xlsx')"
   ]
  },
  {
   "cell_type": "code",
   "execution_count": 40,
   "metadata": {},
   "outputs": [],
   "source": []
  },
  {
   "cell_type": "code",
   "execution_count": null,
   "metadata": {},
   "outputs": [],
   "source": []
  },
  {
   "cell_type": "code",
   "execution_count": null,
   "metadata": {},
   "outputs": [],
   "source": []
  },
  {
   "cell_type": "code",
   "execution_count": null,
   "metadata": {},
   "outputs": [],
   "source": []
  },
  {
   "cell_type": "code",
   "execution_count": null,
   "metadata": {},
   "outputs": [],
   "source": []
  }
 ],
 "metadata": {
  "kernelspec": {
   "display_name": "Python 3",
   "language": "python",
   "name": "python3"
  },
  "language_info": {
   "codemirror_mode": {
    "name": "ipython",
    "version": 3
   },
   "file_extension": ".py",
   "mimetype": "text/x-python",
   "name": "python",
   "nbconvert_exporter": "python",
   "pygments_lexer": "ipython3",
   "version": "3.7.1"
  }
 },
 "nbformat": 4,
 "nbformat_minor": 2
}
