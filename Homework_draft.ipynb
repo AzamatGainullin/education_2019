{
 "cells": [
  {
   "cell_type": "code",
   "execution_count": 1,
   "metadata": {},
   "outputs": [],
   "source": [
    "import requests\n",
    "from bs4 import BeautifulSoup\n",
    "import pandas as pd"
   ]
  },
  {
   "cell_type": "code",
   "execution_count": 2,
   "metadata": {},
   "outputs": [],
   "source": [
    "def get_html(url):\n",
    "    r = requests.get(url)\n",
    "    return r.text\n",
    "def get_total_pages(html):\n",
    "    soup = BeautifulSoup(html, 'lxml')\n",
    "    pages = soup.find('div', class_='search-result-paging').find_all('a')\n",
    "    total_pages = pages[-2].get('href').split('/')[-2]\n",
    "    return int(total_pages)\n",
    "def get_page_data(html):\n",
    "    soup = BeautifulSoup(html, 'lxml')\n",
    "    ads = soup.find('div', class_='main-wrap__content').find_all('div', class_='company-item')\n",
    "    spisok = []\n",
    "    for ad in ads:\n",
    "        \n",
    "        try:\n",
    "            title = ad.find('div', class_='company-item__title').find('a').text.strip()\n",
    "        except:\n",
    "            title = ''\n",
    "        try:\n",
    "            url = 'https://www.rusprofile.ru'+str(ad.find('div', class_='company-item__title').find('a').get('href'))\n",
    "        except:\n",
    "            url = ''\n",
    "        try:\n",
    "            address = ad.find('address').text.strip()\n",
    "        except:\n",
    "            address = ''\n",
    "        ad_subs = ad.find_all('div', class_='company-item-info')\n",
    "        try:\n",
    "            manager = ad_subs[0].find('dt').text\n",
    "        except:\n",
    "            manager = ''\n",
    "        try:\n",
    "            manager_name = ad_subs[0].find('dd').text\n",
    "        except:\n",
    "            manager_name = ''\n",
    "        try:\n",
    "            INN = ad_subs[1].find('dt').text\n",
    "        except:\n",
    "            INN = ''\n",
    "        try:\n",
    "            INN_value = ad_subs[1].find('dd').text\n",
    "        except:\n",
    "            INN_value = ''\n",
    "        try:\n",
    "            dealing = ad_subs[2].find('dt').text\n",
    "        except:\n",
    "            dealing = ''\n",
    "        try:\n",
    "            okved = ad_subs[2].find('dd').text\n",
    "        except:\n",
    "            okved = ''\n",
    "        \n",
    "\n",
    "        data = {'Название компании': title, 'URL-адрес': url,\n",
    "               'Адрес': address, 'Руководитель': manager,\n",
    "                'ФИО руководителя': manager_name,\n",
    "                'Идентификатор': INN, 'ИНН': INN_value,\n",
    "                'Вид деятельности': dealing, 'ОКВЭД': okved}\n",
    "        spisok.append(data)\n",
    "        \n",
    "        \n",
    "    return spisok"
   ]
  },
  {
   "cell_type": "code",
   "execution_count": 3,
   "metadata": {},
   "outputs": [],
   "source": [
    "def main():\n",
    "    url = 'https://www.rusprofile.ru/codes/683210/moskva'\n",
    "    base_url = 'https://www.rusprofile.ru/codes/683210/moskva/'\n",
    "    total_pages = get_total_pages(get_html(url))\n",
    "    spisok = []\n",
    "    for i in range(3, total_pages-1):\n",
    "        url_gen = base_url + str(i)\n",
    "        html = get_html(url_gen)\n",
    "        spisok.extend(get_page_data(html))\n",
    "    return spisok"
   ]
  },
  {
   "cell_type": "code",
   "execution_count": 4,
   "metadata": {},
   "outputs": [],
   "source": [
    "okved_683210_moskva = pd.DataFrame(main())\n",
    "#okved_683210_moskva.to_excel('okved_683210_moskva.xlsx')"
   ]
  },
  {
   "cell_type": "code",
   "execution_count": 26,
   "metadata": {},
   "outputs": [],
   "source": [
    "okved_683210_moskva = pd.read_excel('okved_683210_moskva.xlsx')"
   ]
  },
  {
   "cell_type": "code",
   "execution_count": 33,
   "metadata": {},
   "outputs": [],
   "source": [
    "urls = okved_683210_moskva['URL-адрес']"
   ]
  },
  {
   "cell_type": "code",
   "execution_count": 34,
   "metadata": {},
   "outputs": [],
   "source": [
    "import time\n",
    "spisok = []\n",
    "for url in urls:\n",
    "    time.sleep(2)\n",
    "    html = get_html(url)\n",
    "    soup = BeautifulSoup(html, 'lxml')\n",
    "    try:\n",
    "        ads = ''\n",
    "        ads = soup.find_all('div', class_='change-item')\n",
    "        if len(ads) > 1:\n",
    "            for ad in ads:\n",
    "                date_change = ''\n",
    "                text_change = ''\n",
    "                date_change = ad.find('div', class_='change-item__date').text\n",
    "                text_change = ad.find('div', class_='change-item__text').text.strip()\n",
    "                data = {'URL-адрес': url, 'Дата изменений': date_change, 'Текст изменений': text_change}\n",
    "                spisok.append(data)\n",
    "    except:\n",
    "        pass\n",
    "changes_in_okved_683210_moskva = pd.DataFrame(spisok)\n",
    "changes_in_okved_683210_moskva.to_excel('changes_in_okved_683210_moskva.xlsx')"
   ]
  },
  {
   "cell_type": "markdown",
   "metadata": {},
   "source": [
    "# Читаю по парсингу на https://habr.com/ru/company/ods/blog/346632/"
   ]
  },
  {
   "cell_type": "code",
   "execution_count": 11,
   "metadata": {},
   "outputs": [
    {
     "data": {
      "text/plain": [
       "<Response [403]>"
      ]
     },
     "execution_count": 11,
     "metadata": {},
     "output_type": "execute_result"
    }
   ],
   "source": [
    "page_link = 'http://knowyourmeme.com/memes/all/page/1'\n",
    "#page_link = 'https://www.rusprofile.ru/codes/683210/moskva'\n",
    "\n",
    "response = requests.get(page_link)\n",
    "response"
   ]
  },
  {
   "cell_type": "code",
   "execution_count": 12,
   "metadata": {
    "scrolled": true
   },
   "outputs": [
    {
     "name": "stdout",
     "output_type": "stream",
     "text": [
      "User-Agent: python-requests/2.22.0\n",
      "Accept-Encoding: gzip, deflate\n",
      "Accept: */*\n",
      "Connection: keep-alive\n"
     ]
    }
   ],
   "source": [
    "for key, value in response.request.headers.items():\n",
    "    print(key+\": \"+value)"
   ]
  },
  {
   "cell_type": "code",
   "execution_count": 8,
   "metadata": {},
   "outputs": [
    {
     "data": {
      "text/plain": [
       "'Mozilla/5.0 (Windows NT 6.2; WOW64) AppleWebKit/537.36 (KHTML, like Gecko) Chrome/29.0.1547.2 Safari/537.36'"
      ]
     },
     "execution_count": 8,
     "metadata": {},
     "output_type": "execute_result"
    }
   ],
   "source": [
    "from fake_useragent import UserAgent\n",
    "UserAgent().chrome"
   ]
  },
  {
   "cell_type": "code",
   "execution_count": 13,
   "metadata": {},
   "outputs": [
    {
     "data": {
      "text/plain": [
       "<Response [200]>"
      ]
     },
     "execution_count": 13,
     "metadata": {},
     "output_type": "execute_result"
    }
   ],
   "source": [
    "response = requests.get(page_link, headers={'User-Agent': UserAgent().chrome})\n",
    "response"
   ]
  },
  {
   "cell_type": "code",
   "execution_count": 28,
   "metadata": {},
   "outputs": [
    {
     "data": {
      "text/plain": [
       "'<!DOCTYPE html>\\n<html xmlns:fb=\\'https://www.facebook.com/2008/fbml\\' xmlns=\\'https://www.w3.org/1999/xhtml\\'>\\n<head>\\n<meta content=\\'text/html; charset=utf-8\\' http-equiv=\\'Content-Type\\'>\\n<script type=\"text/javascript\">window.NREUM||(NREUM={});NREUM.info={\"beacon\":\"bam.nr-data.net\",\"errorBeacon\":\"bam.nr-data.net\",\"licenseKey\":\"c1a6d52f38\",\"applicationID\":\"31165848\",\"transactionName\":\"dFdfRUpeWglTQB8GDUNKWFRLHlcJWg==\",\"queueTime\":0,\"applicationTime\":115,\"agent\":\"\"}</script>\\n<script type=\"text/javascript\">window.NREUM||(NREUM={}),__nr_require=function(e,n,t){function r(t){if(!n[t]){var o=n[t]={exports:{}};e[t][0].call(o.exports,function(n){var o=e[t][1][n];return r(o||n)},o,o.exports)}return n[t].exports}if(\"function\"==typeof __nr_require)return __nr_require;for(var o=0;o<t.length;o++)r(t[o]);return r}({1:[function(e,n,t){function r(){}function o(e,n,t){return function(){return i(e,[c.now()].concat(u(arguments)),n?null:this,t),n?void 0:this}}var i=e(\"handle\"),a=e(3),u=e(4),f=e(\"ee\").get(\"trace'"
      ]
     },
     "execution_count": 28,
     "metadata": {},
     "output_type": "execute_result"
    }
   ],
   "source": [
    "html = response.text\n",
    "html[:1000]"
   ]
  },
  {
   "cell_type": "code",
   "execution_count": 15,
   "metadata": {},
   "outputs": [],
   "source": [
    "soup = BeautifulSoup(html,'html.parser')"
   ]
  },
  {
   "cell_type": "code",
   "execution_count": 19,
   "metadata": {},
   "outputs": [
    {
     "data": {
      "text/plain": [
       "'All Entries | Know Your Meme'"
      ]
     },
     "execution_count": 19,
     "metadata": {},
     "output_type": "execute_result"
    }
   ],
   "source": [
    "soup.html.head.title.text"
   ]
  },
  {
   "cell_type": "code",
   "execution_count": 21,
   "metadata": {},
   "outputs": [
    {
     "data": {
      "text/plain": [
       "<a class=\"photo\" href=\"/memes/8-mile-rap-battle\"><img alt=\"8 Mile Rap Battle\" data-src=\"https://i.kym-cdn.com/entries/icons/medium/000/031/011/cover4.jpg\" src=\"https://s.kym-cdn.com/assets/blank-b3f96f160b75b1b49b426754ba188fe8.gif\" title=\"8 Mile Rap Battle\"/> <div class=\"entry-labels\"> <span class=\"label label-submission\"> Submission </span> </div> </a>"
      ]
     },
     "execution_count": 21,
     "metadata": {},
     "output_type": "execute_result"
    }
   ],
   "source": [
    "obj = soup.find(lambda tag: tag.name == 'a' and tag.get('class') == ['photo'])\n",
    "obj"
   ]
  },
  {
   "cell_type": "code",
   "execution_count": 22,
   "metadata": {
    "scrolled": true
   },
   "outputs": [
    {
     "data": {
      "text/plain": [
       "'/memes/8-mile-rap-battle'"
      ]
     },
     "execution_count": 22,
     "metadata": {},
     "output_type": "execute_result"
    }
   ],
   "source": [
    "obj.attrs['href']"
   ]
  },
  {
   "cell_type": "code",
   "execution_count": 25,
   "metadata": {
    "collapsed": true
   },
   "outputs": [
    {
     "data": {
      "text/plain": [
       "[<a class=\"photo\" href=\"/memes/8-mile-rap-battle\"><img alt=\"8 Mile Rap Battle\" data-src=\"https://i.kym-cdn.com/entries/icons/medium/000/031/011/cover4.jpg\" src=\"https://s.kym-cdn.com/assets/blank-b3f96f160b75b1b49b426754ba188fe8.gif\" title=\"8 Mile Rap Battle\"/> <div class=\"entry-labels\"> <span class=\"label label-submission\"> Submission </span> </div> </a>,\n",
       " <a class=\"photo\" href=\"/memes/jacob-rees-mogg-lying-down-in-the-commons\"><img alt=\"Jacob Rees-Mogg Lying Down In The Commons\" data-src=\"https://i.kym-cdn.com/entries/icons/medium/000/031/010/Screenshot_2019-09-04_at_1.11.07_PM.png\" src=\"https://s.kym-cdn.com/assets/blank-b3f96f160b75b1b49b426754ba188fe8.gif\" title=\"Jacob Rees-Mogg Lying Down In The Commons\"/> <div class=\"entry-labels\"> <span class=\"label label-submission\"> Submission </span> </div> </a>,\n",
       " <a class=\"photo\" href=\"/memes/spirituality-definition-the-true-inner-meaning\"><img alt=\"spirituality definition the true inner meaning\" data-src=\"https://i.kym-cdn.com/entries/icons/medium/000/031/009/ggggg.jpg\" src=\"https://s.kym-cdn.com/assets/blank-b3f96f160b75b1b49b426754ba188fe8.gif\" title=\"spirituality definition the true inner meaning\"/> <div class=\"entry-labels\"> <span class=\"label label-submission\"> Submission </span> </div> </a>]"
      ]
     },
     "execution_count": 25,
     "metadata": {},
     "output_type": "execute_result"
    }
   ],
   "source": [
    "meme_links = soup.findAll(lambda tag: tag.name == 'a' and tag.get('class') == ['photo'])\n",
    "meme_links[:3]"
   ]
  },
  {
   "cell_type": "code",
   "execution_count": 26,
   "metadata": {},
   "outputs": [
    {
     "data": {
      "text/plain": [
       "['/memes/8-mile-rap-battle',\n",
       " '/memes/jacob-rees-mogg-lying-down-in-the-commons',\n",
       " '/memes/spirituality-definition-the-true-inner-meaning',\n",
       " '/memes/thomas-had-never-seen-such-bullshit-before',\n",
       " '/memes/geedis-and-the-land-of-ta',\n",
       " '/memes/sites/zao',\n",
       " '/memes/events/forever-21-bankruptcy',\n",
       " '/memes/subcultures/spirit-halloween',\n",
       " '/memes/mike-wazowski-sulley-face-swap',\n",
       " '/memes/depression-blue-body-scan']"
      ]
     },
     "execution_count": 26,
     "metadata": {},
     "output_type": "execute_result"
    }
   ],
   "source": [
    "meme_links = [link.attrs['href'] for link in meme_links]\n",
    "meme_links[:10]"
   ]
  },
  {
   "cell_type": "code",
   "execution_count": null,
   "metadata": {},
   "outputs": [],
   "source": [
    "def getPageLinks(page_number):\n",
    "    \"\"\"\n",
    "        Возвращает список ссылок на мемы, полученный с текущей страницы\n",
    "\n",
    "        page_number: int/string\n",
    "            номер страницы для парсинга\n",
    "\n",
    "    \"\"\"\n",
    "    # составляем ссылку на страницу поиска\n",
    "    page_link = 'http://knowyourmeme.com/memes/all/page/{}'.format(page_number)\n",
    "\n",
    "    # запрашиваем данные по ней\n",
    "    response = requests.get(page_link, headers={'User-Agent': UserAgent().chrome})\n",
    "\n",
    "    if not response.ok:\n",
    "        # если сервер нам отказал, вернем пустой лист для текущей страницы\n",
    "        return []\n",
    "\n",
    "    # получаем содержимое страницы и переводим в суп\n",
    "    html = response.content\n",
    "    soup = BeautifulSoup(html,'html.parser')\n",
    "\n",
    "    # наконец, ищем ссылки на мемы и очищаем их от ненужных тэгов\n",
    "    meme_links = soup.findAll(lambda tag: tag.name == 'a' and tag.get('class') == ['photo'])\n",
    "    meme_links = ['http://knowyourmeme.com' + link.attrs['href'] for link in meme_links]\n",
    "\n",
    "    return meme_links"
   ]
  },
  {
   "cell_type": "code",
   "execution_count": 30,
   "metadata": {
    "scrolled": true
   },
   "outputs": [
    {
     "name": "stdout",
     "output_type": "stream",
     "text": [
      "Current IP Address: 178.18.212.84\n"
     ]
    }
   ],
   "source": [
    "def checkIP():\n",
    "    ip = requests.get('http://checkip.dyndns.org').content\n",
    "    soup = BeautifulSoup(ip, 'html.parser')\n",
    "    print(soup.find('body').text)\n",
    "\n",
    "checkIP()"
   ]
  },
  {
   "cell_type": "code",
   "execution_count": 34,
   "metadata": {
    "collapsed": true
   },
   "outputs": [
    {
     "name": "stdout",
     "output_type": "stream",
     "text": [
      "Collecting PySocks\n",
      "  Downloading https://files.pythonhosted.org/packages/cd/18/102cc70347486e75235a29a6543f002cf758042189cb063ec25334993e36/PySocks-1.7.0-py3-none-any.whl\n",
      "Installing collected packages: PySocks\n",
      "Successfully installed PySocks-1.7.0\n"
     ]
    },
    {
     "name": "stderr",
     "output_type": "stream",
     "text": [
      "WARNING: You are using pip version 19.2.1, however version 19.2.3 is available.\n",
      "You should consider upgrading via the 'python -m pip install --upgrade pip' command.\n"
     ]
    }
   ],
   "source": [
    "!pip3 install PySocks"
   ]
  },
  {
   "cell_type": "code",
   "execution_count": 36,
   "metadata": {
    "collapsed": true
   },
   "outputs": [
    {
     "ename": "ModuleNotFoundError",
     "evalue": "No module named 'PySocks'",
     "output_type": "error",
     "traceback": [
      "\u001b[1;31m---------------------------------------------------------------------------\u001b[0m",
      "\u001b[1;31mModuleNotFoundError\u001b[0m                       Traceback (most recent call last)",
      "\u001b[1;32m<ipython-input-36-deff65426f86>\u001b[0m in \u001b[0;36m<module>\u001b[1;34m\u001b[0m\n\u001b[1;32m----> 1\u001b[1;33m \u001b[1;32mimport\u001b[0m \u001b[0mPySocks\u001b[0m\u001b[1;33m\u001b[0m\u001b[1;33m\u001b[0m\u001b[0m\n\u001b[0m\u001b[0;32m      2\u001b[0m \u001b[1;32mimport\u001b[0m \u001b[0msocket\u001b[0m\u001b[1;33m\u001b[0m\u001b[1;33m\u001b[0m\u001b[0m\n\u001b[0;32m      3\u001b[0m \u001b[0mPySocks\u001b[0m\u001b[1;33m.\u001b[0m\u001b[0mset_default_proxy\u001b[0m\u001b[1;33m(\u001b[0m\u001b[0mPySocks\u001b[0m\u001b[1;33m.\u001b[0m\u001b[0mSOCKS5\u001b[0m\u001b[1;33m,\u001b[0m \u001b[1;34m\"localhost\"\u001b[0m\u001b[1;33m,\u001b[0m \u001b[1;36m9150\u001b[0m\u001b[1;33m)\u001b[0m\u001b[1;33m\u001b[0m\u001b[1;33m\u001b[0m\u001b[0m\n\u001b[0;32m      4\u001b[0m \u001b[0msocket\u001b[0m\u001b[1;33m.\u001b[0m\u001b[0msocket\u001b[0m \u001b[1;33m=\u001b[0m \u001b[0mPySocks\u001b[0m\u001b[1;33m.\u001b[0m\u001b[0msocksocket\u001b[0m\u001b[1;33m\u001b[0m\u001b[1;33m\u001b[0m\u001b[0m\n",
      "\u001b[1;31mModuleNotFoundError\u001b[0m: No module named 'PySocks'"
     ]
    }
   ],
   "source": [
    "import PySocks\n",
    "import socket\n",
    "PySocks.set_default_proxy(PySocks.SOCKS5, \"localhost\", 9150)\n",
    "socket.socket = PySocks.socksocket"
   ]
  },
  {
   "cell_type": "code",
   "execution_count": 37,
   "metadata": {
    "collapsed": true
   },
   "outputs": [
    {
     "ename": "ModuleNotFoundError",
     "evalue": "No module named 'PySocks'",
     "output_type": "error",
     "traceback": [
      "\u001b[1;31m---------------------------------------------------------------------------\u001b[0m",
      "\u001b[1;31mModuleNotFoundError\u001b[0m                       Traceback (most recent call last)",
      "\u001b[1;32m<ipython-input-37-18f705450848>\u001b[0m in \u001b[0;36m<module>\u001b[1;34m\u001b[0m\n\u001b[1;32m----> 1\u001b[1;33m \u001b[1;32mimport\u001b[0m \u001b[0mPySocks\u001b[0m\u001b[1;33m\u001b[0m\u001b[1;33m\u001b[0m\u001b[0m\n\u001b[0m",
      "\u001b[1;31mModuleNotFoundError\u001b[0m: No module named 'PySocks'"
     ]
    }
   ],
   "source": [
    "import PySocks"
   ]
  },
  {
   "cell_type": "code",
   "execution_count": null,
   "metadata": {},
   "outputs": [],
   "source": []
  },
  {
   "cell_type": "code",
   "execution_count": null,
   "metadata": {},
   "outputs": [],
   "source": []
  },
  {
   "cell_type": "code",
   "execution_count": null,
   "metadata": {},
   "outputs": [],
   "source": []
  },
  {
   "cell_type": "code",
   "execution_count": null,
   "metadata": {},
   "outputs": [],
   "source": []
  },
  {
   "cell_type": "code",
   "execution_count": null,
   "metadata": {},
   "outputs": [],
   "source": []
  },
  {
   "cell_type": "code",
   "execution_count": null,
   "metadata": {},
   "outputs": [],
   "source": []
  }
 ],
 "metadata": {
  "kernelspec": {
   "display_name": "Python 3",
   "language": "python",
   "name": "python3"
  },
  "language_info": {
   "codemirror_mode": {
    "name": "ipython",
    "version": 3
   },
   "file_extension": ".py",
   "mimetype": "text/x-python",
   "name": "python",
   "nbconvert_exporter": "python",
   "pygments_lexer": "ipython3",
   "version": "3.7.1"
  }
 },
 "nbformat": 4,
 "nbformat_minor": 2
}
