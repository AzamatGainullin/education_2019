{
 "cells": [
  {
   "cell_type": "code",
   "execution_count": 1,
   "metadata": {},
   "outputs": [],
   "source": [
    "import math\n",
    "import numpy as np\n",
    "import pandas as pd\n",
    "import matplotlib.pyplot as plt\n",
    "import random\n",
    "import sys\n",
    "import copy"
   ]
  },
  {
   "cell_type": "markdown",
   "metadata": {},
   "source": [
    "# Задача про собаку в городе размером n_size, пытающуюся найти выход и не наткнуться на свои следы"
   ]
  },
  {
   "cell_type": "code",
   "execution_count": 5,
   "metadata": {},
   "outputs": [],
   "source": [
    "trials=500\n",
    "n_size=20\n",
    "deadends=0\n",
    "exits=0\n",
    "count=0\n",
    "for t in range(trials):\n",
    "    matrix=np.zeros(shape=(n_size,n_size))\n",
    "    x=int(len(matrix[0])//2)\n",
    "    y=int(len(matrix[0])//2)\n",
    "    matrix[x][y]=1\n",
    "    zd=1\n",
    "    ze=1\n",
    "    while True:\n",
    "        count=count+1\n",
    "        try:\n",
    "            a=matrix[x-1][y]\n",
    "            b=matrix[x+1][y]\n",
    "            c=matrix[x][y-1]\n",
    "            d=matrix[x][y+1]\n",
    "            step_space={(x-1,y):a, (x+1,y):b, (x,y-1):c, (x,y+1):d}\n",
    "\n",
    "            actual_step_space=[]\n",
    "            for items in step_space:\n",
    "                if step_space[items]!=1:\n",
    "                    actual_step_space.append(items)\n",
    "\n",
    "            if len(actual_step_space)==0:\n",
    "                deadends=deadends+1\n",
    "                zd=-1\n",
    "                \n",
    "                break\n",
    "\n",
    "            else:\n",
    "                current_step=actual_step_space[np.random.randint(len(actual_step_space))]\n",
    "\n",
    "                x,y=current_step[0],current_step[1]\n",
    "                matrix[x][y]=1\n",
    "        except:\n",
    "            exits=exits+1\n",
    "            ze=-1\n",
    "            break\n",
    "        \n",
    "    \n",
    "   \n",
    "    "
   ]
  },
  {
   "cell_type": "markdown",
   "metadata": {},
   "source": [
    "# Какие-то функции"
   ]
  },
  {
   "cell_type": "code",
   "execution_count": 7,
   "metadata": {},
   "outputs": [],
   "source": [
    "def max3(a,b,c):\n",
    "    if a>b and a>c:\n",
    "        return a\n",
    "    elif b>a and  b>c:\n",
    "        return b\n",
    "    elif c>b and c>a:\n",
    "        return c\n",
    "    else:\n",
    "        return ('есть два одинаково максимальных элемента')"
   ]
  },
  {
   "cell_type": "code",
   "execution_count": 21,
   "metadata": {},
   "outputs": [],
   "source": [
    "def odd(a,b,c):\n",
    "    if not type(a)==type(b)==type(c)==bool:\n",
    "        return ('не все типа bool')\n",
    "    count=0\n",
    "    for item in [a,b,c]:\n",
    "        if item:\n",
    "            count=count+1\n",
    "    if count%2==0:\n",
    "        return False\n",
    "    else:\n",
    "        return True\n",
    "    "
   ]
  },
  {
   "cell_type": "code",
   "execution_count": 34,
   "metadata": {},
   "outputs": [],
   "source": [
    "def majority(a,b,c):\n",
    "    if not type(a)==type(b)==type(c)==bool:\n",
    "        return ('не все типа bool')\n",
    "    return a+b+c>=2    \n",
    "    \n",
    "    "
   ]
  },
  {
   "cell_type": "markdown",
   "metadata": {},
   "source": [
    "# Проверка на треугольник исходя из сторон"
   ]
  },
  {
   "cell_type": "code",
   "execution_count": 52,
   "metadata": {},
   "outputs": [],
   "source": [
    "def areTriangular(a,b,c):\n",
    "    import copy\n",
    "    sides=[a,b,c]\n",
    "    for side in sides:\n",
    "        tri=copy.deepcopy(sides)\n",
    "        tri.remove(side)\n",
    "        if side >= sum(tri):\n",
    "            return False\n",
    "    return True    "
   ]
  },
  {
   "cell_type": "markdown",
   "metadata": {},
   "source": [
    "# Какие-то функции"
   ]
  },
  {
   "cell_type": "code",
   "execution_count": 62,
   "metadata": {},
   "outputs": [],
   "source": [
    "def sigmoid(x):\n",
    "    import math\n",
    "    return 1/(1+math.e**(-x))"
   ]
  },
  {
   "cell_type": "code",
   "execution_count": 74,
   "metadata": {},
   "outputs": [],
   "source": [
    "def lg(n):\n",
    "    return math.log2(n)"
   ]
  },
  {
   "cell_type": "code",
   "execution_count": 83,
   "metadata": {},
   "outputs": [],
   "source": [
    "def pered_lg(n):\n",
    "    z=0\n",
    "    while 2**z <= n:\n",
    "        z=z+1\n",
    "    return z-1"
   ]
  },
  {
   "cell_type": "code",
   "execution_count": 92,
   "metadata": {},
   "outputs": [],
   "source": [
    "def scale(a):\n",
    "    min_=min(a)\n",
    "    max_=max(a)\n",
    "    for i in range(len(a)):\n",
    "        a[i] = (a[i] - min_)/(max_-min_)\n",
    "    return a"
   ]
  },
  {
   "cell_type": "markdown",
   "metadata": {},
   "source": [
    "# Задача на написание кода на первоначальную раздачу карт в карточной игре"
   ]
  },
  {
   "cell_type": "code",
   "execution_count": 9,
   "metadata": {
    "collapsed": true
   },
   "outputs": [
    {
     "name": "stdout",
     "output_type": "stream",
     "text": [
      "[['король', 'бубен'], ['6', 'крести'], ['5', 'треф'], ['4', 'бубен'], ['туз', 'бубен']]\n",
      "[['3', 'треф'], ['валет', 'черви'], ['туз', 'треф'], ['9', 'треф'], ['9', 'черви']]\n",
      "[['валет', 'крести'], ['6', 'треф'], ['4', 'крести'], ['9', 'крести'], ['6', 'бубен']]\n",
      "[['10', 'бубен'], ['5', 'крести'], ['туз', 'крести'], ['2', 'треф'], ['дама', 'черви']]\n",
      "[['3', 'черви'], ['7', 'крести'], ['7', 'бубен'], ['2', 'бубен'], ['8', 'бубен']]\n",
      "[['2', 'черви'], ['король', 'треф'], ['6', 'черви'], ['король', 'крести'], ['10', 'крести']]\n"
     ]
    }
   ],
   "source": [
    "def coloda():\n",
    "    mast=['черви', 'бубен', 'треф', 'крести']\n",
    "    rang=[2,3,4,5,6,7,8,9,10, 'валет','дама','король','туз']\n",
    "    coloda=[]\n",
    "    for i in rang:\n",
    "        for j in mast:\n",
    "            karta=[str(i),str(j)]\n",
    "            coloda.append(karta)\n",
    "    return coloda      \n",
    "\n",
    "def razdacha(coloda_igra, m=5):\n",
    "    vybor=[0]*m\n",
    "    for i in range(m):\n",
    "        choise=np.random.randint(len(coloda_igra))\n",
    "        vybor[i]=coloda_igra[choise]\n",
    "        coloda_igra.remove(coloda_igra[choise])\n",
    "    return vybor, coloda_igra\n",
    "\n",
    "def card_game(players=6, cards=5):\n",
    "    coloda_igra=coloda()    \n",
    "    for player in range(players):\n",
    "        vybor, coloda_igra=razdacha(coloda_igra, cards)\n",
    "        print(vybor)\n",
    "        \n",
    "\n",
    "\n",
    "#САМА ИГРА НЕПОСРЕДСТВЕННО, МОЖНО ВАРЬИРОВАТЬ КОЛ-ВО ИГРОКОВ И КАРТ\n",
    "card_game(players=6, cards=5)"
   ]
  },
  {
   "cell_type": "code",
   "execution_count": 8,
   "metadata": {},
   "outputs": [],
   "source": [
    "def vyborka_coloda(m):\n",
    "    coloda_igra=coloda()\n",
    "    vybor=[0]*m\n",
    "    for i in range(m):\n",
    "        choise=np.random.randint(len(coloda_igra))\n",
    "        vybor[i]=coloda_igra[choise]\n",
    "        coloda_igra.remove(coloda_igra[choise])\n",
    "    return vybor"
   ]
  },
  {
   "cell_type": "markdown",
   "metadata": {},
   "source": [
    "# Подсчет вероятностей в покере, от пары до флэш-рояль"
   ]
  },
  {
   "cell_type": "code",
   "execution_count": 104,
   "metadata": {
    "scrolled": true
   },
   "outputs": [
    {
     "name": "stdout",
     "output_type": "stream",
     "text": [
      "para:42.2045\n",
      "dve_pari:4.784\n",
      "tri_karti:2.1185\n",
      "fullhouse:0.153\n",
      "flash:0.0\n"
     ]
    }
   ],
   "source": [
    "trials=200000\n",
    "para=dve_pari=tri_karti=fullhouse=flash=0\n",
    "\n",
    "for trial in range(trials):\n",
    "    cards=vyborka_coloda(5)\n",
    "    spisok=[i[0] for i in cards]\n",
    "    counts=[spisok.count(i) for i in spisok]\n",
    "    mult=1\n",
    "    for j in counts:\n",
    "        mult=mult*j\n",
    "    if mult==4:\n",
    "        para=para+1\n",
    "    elif mult==16:\n",
    "        dve_pari=dve_pari+1\n",
    "    elif mult==27:\n",
    "        tri_karti=tri_karti+1\n",
    "    elif mult==108:\n",
    "        fullhouse=fullhouse+1\n",
    "    elif sorted(spisok)==['10', 'валет', 'дама', 'король', 'туз']:\n",
    "        mast_s=[i[1] for i in cards]\n",
    "        if mast_s[0]==mast_s[1]==mast_s[2]==mast_s[3]==mast_s[4]:\n",
    "            flash=flash+1\n",
    "\n",
    "print('para'+':'+str(para/trials*100))        \n",
    "print('dve_pari'+':'+str(dve_pari/trials*100))     \n",
    "print('tri_karti'+':'+str(tri_karti/trials*100))     \n",
    "print('fullhouse'+':'+str(fullhouse/trials*100))             \n",
    "print('flash'+':'+str(flash/trials*100))"
   ]
  },
  {
   "cell_type": "markdown",
   "metadata": {},
   "source": [
    "# Определение вероятности совпадения дней рождения"
   ]
  },
  {
   "cell_type": "code",
   "execution_count": 250,
   "metadata": {},
   "outputs": [],
   "source": [
    "def birthdays(trials=1000):\n",
    "    count=0\n",
    "    for trial in range(trials):\n",
    "        days=0\n",
    "        guests=[]\n",
    "        while days<1:\n",
    "            n=np.random.randint(365)\n",
    "            count=count+1\n",
    "            if n in guests:\n",
    "                days=days+1\n",
    "            else:\n",
    "                guests.append(n)\n",
    "\n",
    "    return ('среднее число человек до совпадения: '+' '+ str(round(count/trials,2)))"
   ]
  },
  {
   "cell_type": "markdown",
   "metadata": {},
   "source": [
    "# Разложение на множители"
   ]
  },
  {
   "cell_type": "code",
   "execution_count": 259,
   "metadata": {},
   "outputs": [],
   "source": [
    "def factors(n):\n",
    "    factors_list=[]\n",
    "    factor = 2\n",
    "    while factor*factor <= n:\n",
    "        while n % factor == 0:\n",
    "            # Cast out and write factor.\n",
    "            n //= factor\n",
    "            factors_list.append(factor)\n",
    "        factor += 1\n",
    "        # Any factors of n are greater than or equal to factor.\n",
    "\n",
    "    if n > 1:\n",
    "        factors_list.append(n)\n",
    "    return factors_list"
   ]
  },
  {
   "cell_type": "markdown",
   "metadata": {},
   "source": [
    "# Какие-то функции"
   ]
  },
  {
   "cell_type": "code",
   "execution_count": 313,
   "metadata": {},
   "outputs": [],
   "source": [
    "def eiler_f(m):\n",
    "    isprime_with_m=[]\n",
    "    factors_for_m=factors(m)\n",
    "    for n in range(2,m):\n",
    "        factors_for_n=factors(n)\n",
    "        temp_list=[]\n",
    "        for i in factors_for_m:\n",
    "            for j in factors_for_n:\n",
    "                temp_list.append(i-j)\n",
    "        if 0 not in temp_list:\n",
    "            isprime_with_m.append(n)\n",
    "    #isprime_with_m.append(m)    \n",
    "        \n",
    "    return len(isprime_with_m)#, isprime_with_m"
   ]
  },
  {
   "cell_type": "code",
   "execution_count": 3,
   "metadata": {},
   "outputs": [],
   "source": [
    "import random\n",
    "def gaussian():\n",
    "    r=0\n",
    "    while r>=1 or r==0:\n",
    "        x=-1+2*random.random()\n",
    "        y=-1+2*random.random()\n",
    "        r=x*x+y*y\n",
    "    return x*math.sqrt(-2*math.log(r)/r)"
   ]
  },
  {
   "cell_type": "code",
   "execution_count": null,
   "metadata": {},
   "outputs": [],
   "source": [
    "gaus_numbers=[]\n",
    "for i in range(10000):\n",
    "    gaus_numbers.append(gaussian())\n",
    "plt.hist(gaus_numbers, bins=50)"
   ]
  },
  {
   "cell_type": "code",
   "execution_count": 2,
   "metadata": {},
   "outputs": [],
   "source": [
    "# Return the value of the Gaussian probability function with mean 0.0\n",
    "# and standard deviation 1.0 at the given x value.\n",
    "import sys\n",
    "\n",
    "\n",
    "def phi(x):\n",
    "    return math.exp(-x * x / 2.0) / math.sqrt(2.0 * math.pi)\n",
    "\n",
    "#-----------------------------------------------------------------------\n",
    "\n",
    "# Return the value of the Gaussian probability function with mean mu\n",
    "# and standard deviation sigma at the given x value.\n",
    "\n",
    "def pdf(x, mu=0.0, sigma=1.0):\n",
    "    return phi((x - mu) / sigma) / sigma\n",
    "\n",
    "#-----------------------------------------------------------------------\n",
    "\n",
    "# Return the value of the cumulative Gaussian distribution function\n",
    "# with mean 0.0 and standard deviation 1.0 at the given z value.\n",
    "\n",
    "def Phi(z):\n",
    "    if z < -8.0:\n",
    "        return 0.0\n",
    "    if z > 8.0:\n",
    "        return 1.0\n",
    "    total = 0.0\n",
    "    term = z\n",
    "    i = 3\n",
    "    while total != total + term:\n",
    "        total += term\n",
    "        term *= z * z / float(i)\n",
    "        i += 2\n",
    "    return 0.5 + phi(z) * total\n",
    "\n",
    "#-----------------------------------------------------------------------\n",
    "\n",
    "# Return the value of the cumulative Gaussian distribution function\n",
    "# with mean mu and standard deviation sigma at the given z value.\n",
    "\n",
    "def cdf(z, mu=0.0, sigma=1.0):\n",
    "    return Phi((z - mu) / sigma)\n",
    "\n",
    "#-----------------------------------------------------------------------\n",
    "\n",
    "# Accept floats z, mu, and sigma as command-line arguments. Use them\n",
    "# to test the cdf() and pdf() functions. Write the\n",
    "# results to standard output.\n",
    "\n",
    "#z = \n",
    "#mu = \n",
    "#sigma = \n",
    "\n",
    "#-----------------------------------------------------------------------\n",
    "\n",
    "# python gauss.py 820 1019 209\n",
    "# 0.17050966869132106\n",
    "\n",
    "# python gauss.py 1500 1019 209\n",
    "# 0.9893164837383885\n",
    "\n",
    "# python gauss.py 1500 1025 231\n",
    "# 0.9801220907365491\n",
    "\n"
   ]
  },
  {
   "cell_type": "code",
   "execution_count": 52,
   "metadata": {},
   "outputs": [],
   "source": [
    "#CDF_INVERSE\n",
    "\n",
    "#mu=100\n",
    "#sigma=10\n",
    "#level=0.95  #cdf(board,mu,sigma)\n",
    "#Find board\n",
    "\n",
    "#THEN\n",
    "def cdfInverse(level=0.95, mu=100, sigma=10):\n",
    "    board1=mu-sigma*5\n",
    "    board2=mu+sigma*5\n",
    "    while abs(board2-board1)>0.00001:   #abs(board2-board1)>0.001:\n",
    "        half_board=(board2+board1)/2\n",
    "        current_level=cdf(half_board,mu,sigma)\n",
    "\n",
    "        if current_level<level:\n",
    "            board1=half_board\n",
    "        elif current_level>level:\n",
    "            board2=half_board\n",
    "        else:\n",
    "            break\n",
    "\n",
    "    return (board1/2+board2/2)"
   ]
  },
  {
   "cell_type": "code",
   "execution_count": 3,
   "metadata": {
    "collapsed": true
   },
   "outputs": [
    {
     "name": "stdout",
     "output_type": "stream",
     "text": [
      "0.05 1.04\n",
      "0.1 1.03\n",
      "0.15000000000000002 1.03\n",
      "0.2 1.02\n",
      "0.25 1.02\n",
      "0.3 1.02\n",
      "0.35 1.01\n",
      "0.39999999999999997 1.0\n",
      "0.44999999999999996 1.0\n",
      "0.49999999999999994 1.0\n",
      "0.5499999999999999 1.0\n",
      "0.5499999999999999\n"
     ]
    }
   ],
   "source": [
    "mistake=0.0\n",
    "level=2\n",
    "while level>1:\n",
    "    mistake=mistake+0.05\n",
    "    massiv=[False]*int(300000*0.49)+[True]*int(300000*0.51)\n",
    "    random.shuffle(massiv)\n",
    "    for i in range(int(len(massiv)*mistake)):\n",
    "        massiv[i]=not massiv[i]\n",
    "    trues=[i for i in massiv if i==True]\n",
    "    falses=[i for i in massiv if i==False]\n",
    "    level=len(trues)/len(falses)\n",
    "    print(mistake,round(level,2))\n",
    "print(mistake)\n",
    "    "
   ]
  },
  {
   "cell_type": "code",
   "execution_count": 146,
   "metadata": {},
   "outputs": [],
   "source": [
    "def gcd(p, q):\n",
    "    if q == 0:\n",
    "        return p\n",
    "    return gcd(q, p % q)\n",
    "\n",
    "#-----------------------------------------------------------------------\n",
    "\n",
    "# Accept integers p and q as command-line arguments, compute the\n",
    "# greatest common divisor of p and q, and write the result to\n",
    "# standard output.\n",
    "#-----------------------------------------------------------------------\n",
    "\n",
    "# python euclid.py 1440 408\n",
    "# 24\n",
    "\n",
    "# python euclid.py 314159 271828\n",
    "# 1\n"
   ]
  },
  {
   "cell_type": "markdown",
   "metadata": {},
   "source": [
    "# Модель Блэка-Шоулза"
   ]
  },
  {
   "cell_type": "code",
   "execution_count": 104,
   "metadata": {},
   "outputs": [],
   "source": [
    "def black_shouls(S=20,K=24,r=0.0488,T_t=7,sigma=0.5):\n",
    "    d1=(math.log(S/K)+(r+sigma*sigma/2)*T_t)/(sigma*math.sqrt(T_t))\n",
    "    d2=d1-sigma*math.sqrt(T_t)\n",
    "    option_call=S*cdf(0+d1,0,1)-K*math.e**(-r*T_t)*cdf(0+d2,0,1)\n",
    "    return option_call"
   ]
  },
  {
   "cell_type": "code",
   "execution_count": 105,
   "metadata": {},
   "outputs": [
    {
     "data": {
      "text/plain": [
       "10.638572794644313"
      ]
     },
     "execution_count": 105,
     "metadata": {},
     "output_type": "execute_result"
    }
   ],
   "source": [
    "black_shouls()"
   ]
  }
 ],
 "metadata": {
  "kernelspec": {
   "display_name": "Python 3",
   "language": "python",
   "name": "python3"
  },
  "language_info": {
   "codemirror_mode": {
    "name": "ipython",
    "version": 3
   },
   "file_extension": ".py",
   "mimetype": "text/x-python",
   "name": "python",
   "nbconvert_exporter": "python",
   "pygments_lexer": "ipython3",
   "version": "3.7.1"
  }
 },
 "nbformat": 4,
 "nbformat_minor": 2
}
