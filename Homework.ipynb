{
 "cells": [
  {
   "cell_type": "markdown",
   "metadata": {},
   "source": [
    "# Решенные задачи"
   ]
  },
  {
   "cell_type": "markdown",
   "metadata": {},
   "source": [
    "Занятие №1 Задание №1 (простое)\n",
    "\n",
    "Написать программу, которая будет задавать пользователю вопросы, и проверять правильность ответов.\n",
    "Если пользователь неправильно ответил на вопрос, то выводится сообщение, что ответ неверный и вопрос задается повторно.\n",
    "Программа должна задавать не менее трех вопросов.\n",
    "Вопросы задаются последовательно."
   ]
  },
  {
   "cell_type": "code",
   "execution_count": null,
   "metadata": {},
   "outputs": [],
   "source": [
    "question = 'Сколько планет в Солнечной системе?' +' '\n",
    "i = 0\n",
    "while i < 2:\n",
    "    answer = input(question)\n",
    "    if answer == '8':\n",
    "        print('Ответ верный!')\n",
    "        break\n",
    "    else:\n",
    "        print('Ответ неверный!')\n",
    "    \n",
    "    i = i + 1\n",
    "\n",
    "question2 = 'Первый день недели?' +' '\n",
    "i = 0\n",
    "while i < 2:\n",
    "    answer = input(question2)\n",
    "    if answer == 'Понедельник':\n",
    "        print('Ответ верный!')\n",
    "        break\n",
    "    else:\n",
    "        print('Ответ неверный!')    \n",
    "    i = i + 1\n",
    "\n",
    "question3 = 'Количество спутников на орбите Земли?' +' '\n",
    "i = 0\n",
    "while i < 2:\n",
    "    answer = input(question3)\n",
    "    if answer == '1':\n",
    "        print('Ответ верный!')\n",
    "        break\n",
    "    else:\n",
    "        print('Ответ неверный!')    \n",
    "    i = i + 1"
   ]
  },
  {
   "cell_type": "markdown",
   "metadata": {},
   "source": [
    "Занятие №1 Задание №2 (сложнее)\n",
    "\n",
    "Написать “калькулятор“. Пользователь вводит либо числа, либо знаки арифметических действий (+, -, *, /), калькулятор выводит промежуточные ответы."
   ]
  },
  {
   "cell_type": "code",
   "execution_count": null,
   "metadata": {},
   "outputs": [],
   "source": [
    "# так как заданием не было оговорено, не обрабатываются исключения при делении на ноль, и при вводе некорректных типов данныx.\n",
    "# подразумевается, что пользователь корректно вводит либо числа, либо действия. проверка корректности вводимого действия осуществляется для использования возможностей else\n",
    "\n",
    "first_input = input('Введите число'+' ')\n",
    "\n",
    "while True:\n",
    "    second_input = input('Введите действие'+' ')\n",
    "    if second_input == '':\n",
    "        break    \n",
    "    third_input = input('Введите число'+' ')\n",
    "    \n",
    "    if third_input == '':\n",
    "        break        \n",
    "            \n",
    "    if second_input == '+':\n",
    "        first_input = (float(first_input) + float(third_input))\n",
    "    elif second_input == '-':\n",
    "        first_input = (float(first_input) - float(third_input))\n",
    "    elif second_input == '/':\n",
    "        first_input = (float(first_input) / float(third_input))\n",
    "    elif second_input == '*':\n",
    "        first_input = (float(first_input) * float(third_input))\n",
    "    else:\n",
    "        print('Введен некорректный символ арифметической операции!')\n",
    "        break\n",
    "    \n",
    "    print('Промежуточный итог:' + ' ' + str(first_input))"
   ]
  },
  {
   "cell_type": "markdown",
   "metadata": {},
   "source": [
    "Занятие №2\n",
    "Задание №1 (Простое)\n",
    "\n",
    "Модифицировать программу из домашнего задания №1 так, чтобы:\n",
    "поддерживалось несколько вариантов верных ответов,\n",
    "вопросы и ответы лежали в словаре"
   ]
  },
  {
   "cell_type": "code",
   "execution_count": null,
   "metadata": {},
   "outputs": [],
   "source": [
    "questions_answers = {'Сколько планет в Солнечной системе?': ['8','9'],\n",
    "                     'Первый день недели?': ['Воскресенье', 'Понедельник'],\n",
    "                    'Количество спутников на орбите Земли?': ['1', 'Много', 'Луна и остальные']}\n",
    "\n",
    "for item in range(len(questions_answers)):\n",
    "    i= 0\n",
    "    while i < 2:\n",
    "        answer = input(list(questions_answers.keys())[item])\n",
    "        if answer in list(questions_answers.values())[item]:\n",
    "            print('Ответ верный!')\n",
    "            break\n",
    "        else:\n",
    "            print('Ответ неверный!')\n",
    "        i = i + 1"
   ]
  },
  {
   "cell_type": "markdown",
   "metadata": {},
   "source": [
    "Занятие №2 Задание №2 (Посложнее)\n",
    "\n",
    "Есть текст, который лежит в string.\n",
    "Надо убрать из него все знаки препинания, и найти сколько раз встречается каждое слово. Вывести TOP-10 самых встречающихся слов, с указанием, какое это слово и сколько раз оно встретилось."
   ]
  },
  {
   "cell_type": "code",
   "execution_count": null,
   "metadata": {},
   "outputs": [],
   "source": [
    "text = 'Sed ut perspiciatis unde omnis iste natus error sit voluptatem accusantium doloremque laudantium, totam rem aperiam, eaque ipsa quae ab illo inventore veritatis et quasi architecto beatae vitae dicta sunt explicabo. Nemo enim ipsam voluptatem quia voluptas sit aspernatur aut odit aut fugit, sed quia consequuntur magni dolores eos qui ratione voluptatem sequi nesciunt. Neque porro quisquam est, qui dolorem ipsum quia dolor sit amet, consectetur, adipisci velit, sed quia non numquam eius modi tempora incidunt ut labore et dolore magnam aliquam quaerat voluptatem. Ut enim ad minima veniam, quis nostrum exercitationem ullam corporis suscipit laboriosam, nisi ut aliquid ex ea commodi consequatur? Quis autem vel eum iure reprehenderit qui in ea voluptate velit esse quam nihil molestiae consequatur, vel illum qui dolorem eum fugiat quo voluptas nulla pariatur?'\n",
    "symbol_to_delete = [',', '.', '?', ]\n",
    "for symbol in symbol_to_delete:\n",
    "    text = text.replace(symbol, \"\")\n",
    "splitted_text = text.split()\n",
    "dict_text = {}\n",
    "for i in splitted_text:\n",
    "    if i in dict_text:\n",
    "        dict_text[i] = dict_text[i] + 1\n",
    "    else:\n",
    "        dict_text[i] = 1\n",
    "#вывод на печать 10 наиболее встреч. слов. пришлось применить lambda, сортировка словаря по значениям простыми операторами слишком длинна по коду\n",
    "print(sorted(dict_text.items(), key=lambda x:x[1], reverse=True)[:10])"
   ]
  },
  {
   "cell_type": "markdown",
   "metadata": {},
   "source": [
    "Занятие №3\n",
    "Задание №1 (простое)\n",
    "\n",
    "Напишите программу, которая проверяет, является ли введенная строка панграммой (т.е. содержит все буквы либо русского, либо английской алфавита)\n",
    "Пример русской панграммы - Широкая электрификация южных губерний даст мощный толчок подъёму сельского хозяйства.\n",
    "Пример английской - The quick brown fox jumps over the lazy dog\n",
    "Расширенный вариант - выводится, каких букв алфавита не хватает во фразе"
   ]
  },
  {
   "cell_type": "code",
   "execution_count": null,
   "metadata": {},
   "outputs": [],
   "source": [
    "russian_letters = ['а', 'о', 'у', 'ы', 'э', 'я', 'е', 'ё', 'ю', 'и', 'б', 'в', 'г', 'д', 'й', 'ж', 'з', 'к', 'л', 'м', 'н', 'п', 'р', 'с', 'т', 'ф', 'х', 'ц', 'ч', 'ш', 'щ', 'ь', 'ъ']\n",
    "english_letters = ['a', 'b', 'c', 'd', 'e', 'f', 'g', 'h', 'i', 'j', 'k', 'l', 'm', 'n', 'o', 'p', 'q', 'r', 's', 't', 'u', 'v', 'w', 'x', 'y', 'z']\n",
    "stroka = input()\n",
    "\n",
    "stroka = list(stroka)\n",
    "\n",
    "for i in range(len(stroka)):\n",
    "    stroka[i] = stroka[i].lower()\n",
    "for i in stroka:\n",
    "    if i in russian_letters:\n",
    "        try:\n",
    "            russian_letters.remove(i)\n",
    "        except:\n",
    "            pass\n",
    "        \n",
    "for i in stroka:\n",
    "    if i in english_letters:\n",
    "        try:\n",
    "            english_letters.remove(i)\n",
    "        except:\n",
    "            pass\n",
    "if len(russian_letters)==0 or len(english_letters)==0:\n",
    "    print('Это пантаграмма!')\n",
    "elif len(russian_letters)-6 < len(english_letters):\n",
    "    print('Это не пантаграмма!')\n",
    "    print('Не использованы буквы:' + str(russian_letters))\n",
    "else:\n",
    "    print('Это не пантаграмма!')\n",
    "    print('Не использованы буквы:' + str(english_letters))"
   ]
  },
  {
   "cell_type": "markdown",
   "metadata": {},
   "source": [
    "Занятие №4\n",
    "Задание №1 (простое)\n",
    "\n",
    "Написать игру пятнашки.\n",
    "Выводится поле размером 4х4. Заполненное случайным образом числами от 1 до 15 в случайном порядке, каждое число выводится один раз, одна ячейка остается пустой."
   ]
  },
  {
   "cell_type": "code",
   "execution_count": null,
   "metadata": {},
   "outputs": [],
   "source": [
    "game = [[1,2,3,4], [5,6,7,8], [9,10,11,12], [13,15,14, ' ']]\n",
    "def printgame(game): \n",
    "    for row in game: \n",
    "        for i in row: \n",
    "            print (i, end = '   ' ) \n",
    "        print ()\n",
    "printgame(game)\n",
    "\n",
    "x = 3\n",
    "y = 3\n",
    "while True:\n",
    "    enter = input()\n",
    "\n",
    "    if enter == 'left' and x > 0:\n",
    "        game[y][x], game[y][x - 1] = game[y][x - 1], game[y][x]\n",
    "        x = x - 1\n",
    "    elif enter == 'right' and x < 3:\n",
    "        game[y][x], game[y][x + 1] = game[y][x + 1], game[y][x]\n",
    "        x = x + 1\n",
    "    elif enter == 'up' and y > 0:\n",
    "        game[y][x], game[y - 1][x] = game[y - 1][x], game[y][x]\n",
    "        y = y - 1\n",
    "    elif enter == 'down' and y < 3:\n",
    "        game[y][x], game[y + 1][x] = game[y + 1][x], game[y][x]\n",
    "        y = y + 1\n",
    "    else:\n",
    "        print('Вы выходите за пределы игры! Или некорректно ввели направление')\n",
    "        break\n",
    "    printgame(game)"
   ]
  },
  {
   "cell_type": "markdown",
   "metadata": {},
   "source": [
    "Занятие №4 Задание №2 (сложное)\n",
    "\n",
    "Написать алгоритм, который сортирует список по следующему алгоритму:\n",
    "Сортируемый массив разбивается на две части примерно одинакового размера;\n",
    "Каждая из получившихся частей сортируется отдельно, например — тем же самым алгоритмом;\n",
    "Два упорядоченных массива половинного размера соединяются в один."
   ]
  },
  {
   "cell_type": "code",
   "execution_count": null,
   "metadata": {},
   "outputs": [],
   "source": [
    "#За 3 часа смог написать только такой длинный код, к сожалению. Рекурсивная часть - решающая\n",
    "massiv=[17,0,3,9,7,5,15,1,2,19,6,0,7, -5, 25, 21]\n",
    "\n",
    "      \n",
    "def parts_from_massiv(massiv):\n",
    "    if len(massiv)%2==0:\n",
    "        parts = [[massiv[i], massiv[i+1]] for i in range(len(massiv)-1) if i%2==0]\n",
    "    else:\n",
    "        parts = [[massiv[i-1], massiv[i]] for i in range(len(massiv)) if i%2==1]\n",
    "        parts.append([massiv[-1]])\n",
    "\n",
    "    return parts\n",
    "\n",
    "def sort_part(part):\n",
    "    if len(part)==1:\n",
    "        return part\n",
    "    else:\n",
    "        return [min(part), max(part)]\n",
    "    \n",
    "def sort_parts(parts):\n",
    "    sorted_parts = [sort_part(part) for part in parts]\n",
    "    return sorted_parts\n",
    "\n",
    "def concat_massives(massiv1, massiv2):\n",
    "    massiv=[]\n",
    "    while len(massiv1)+len(massiv2)>0:\n",
    "\n",
    "        if len(massiv1) > 0 and len(massiv2) > 0:\n",
    "            \n",
    "\n",
    "            if massiv1[0] < massiv2[0]:\n",
    "                if isinstance(massiv1[0], int):\n",
    "\n",
    "                    massiv.append(massiv1[0])\n",
    "                    massiv1.remove(massiv1[0])\n",
    "                else:\n",
    "                    massiv.extend(massiv1[0])\n",
    "                    massiv1.remove(massiv1[0])                    \n",
    "                    \n",
    "\n",
    "            else:\n",
    "                if isinstance(massiv2[0], int):\n",
    "                    \n",
    "\n",
    "                    massiv.append(massiv2[0])\n",
    "                    massiv2.remove(massiv2[0])\n",
    "                else:\n",
    "                    massiv.extend(massiv2[0])\n",
    "                    massiv2.remove(massiv2[0])\n",
    "                    \n",
    "                    \n",
    "        elif len(massiv1) == 0:\n",
    "            massiv.extend(massiv2)\n",
    "            massiv2=[]\n",
    "        else:\n",
    "            massiv.extend(massiv1)\n",
    "            massiv1=[]\n",
    "      \n",
    "            \n",
    "    return massiv\n",
    "\n",
    "def recurse_part(sorted_parts):\n",
    "    #print(sorted_parts)\n",
    "    if len(sorted_parts)==1:\n",
    "        return sorted_parts\n",
    "    if len(sorted_parts)%2==0:\n",
    "        new_sorted_parts = [concat_massives(sorted_parts[i], sorted_parts[i+1]) for i in range(len(sorted_parts)-1) if i%2==0]\n",
    "    else:\n",
    "        new_sorted_parts = [concat_massives(sorted_parts[i], sorted_parts[i+1]) for i in range(len(sorted_parts)-2) if i%2==0]\n",
    "        new_sorted_parts.append(sorted_parts[-1])\n",
    "    \n",
    "    return recurse_part(new_sorted_parts)\n",
    "\n",
    "parts = parts_from_massiv(massiv)\n",
    "sorted_parts = sort_parts(parts)\n",
    "massiv_sorted_by_recurse = recurse_part(sorted_parts)\n",
    "print(massiv_sorted_by_recurse)"
   ]
  },
  {
   "cell_type": "code",
   "execution_count": null,
   "metadata": {},
   "outputs": [],
   "source": []
  },
  {
   "cell_type": "markdown",
   "metadata": {},
   "source": [
    "# Задачи в процессе решения (черновик)"
   ]
  },
  {
   "cell_type": "markdown",
   "metadata": {},
   "source": [
    "Занятие №3 Задание №2 (посложнее) - В ПРОЦЕССЕ РЕШЕНИЯ\n",
    "\n",
    "Напишите игру “Поле чудес”"
   ]
  },
  {
   "cell_type": "markdown",
   "metadata": {},
   "source": [
    "stroka = 'Pythynyn'\n",
    "guessed_word = stroka\n",
    "stroka = list(stroka)\n",
    "for i in range(len(stroka)):\n",
    "    stroka[i] = stroka[i].lower()\n",
    "guessed_letters = []\n",
    "while len(stroka)>0:\n",
    "    answer = input('Введите букву: ').lower()\n",
    "    if answer in guessed_letters:\n",
    "        print('Такую букву уже называли!')\n",
    "    elif answer in stroka:\n",
    "        print('Есть такая буква!' + ' ' + answer)\n",
    "        try:\n",
    "            stroka.remove(answer)\n",
    "            guessed_letters.append(answer)\n",
    "            stroka.remove(answer)\n",
    "            guessed_letters.append(answer)\n",
    "            stroka.remove(answer)\n",
    "            guessed_letters.append(answer)\n",
    "            stroka.remove(answer)\n",
    "            guessed_letters.append(answer)\n",
    "            stroka.remove(answer)\n",
    "            guessed_letters.append(answer)\n",
    "            stroka.remove(answer)\n",
    "            guessed_letters.append(answer)\n",
    "            stroka.remove(answer)\n",
    "            guessed_letters.append(answer)\n",
    "        except:\n",
    "            pass\n",
    "        \n",
    "    else:\n",
    "        print('Нет такой буквы!')\n",
    "print('Поздравляем, вы отгадали слово! :' + ' ' + guessed_word)"
   ]
  },
  {
   "cell_type": "markdown",
   "metadata": {},
   "source": [
    "Занятие №3 Задание №3 (сложное) - В ПРОЦЕССЕ РЕШЕНИЯ\n",
    "\n",
    "Есть три стержня, пронумерованных числами 1, 2, 3. На стержень 1 надета пирамидка из n дисков различного диаметра в порядке возрастания диаметра. Диски можно перекладывать с одного стержня на другой по одному, при этом диск нельзя класть на диск меньшего диаметра. Необходимо переложить всю пирамидку со стержня 1 на стержень 3 за минимальное число перекладываний."
   ]
  },
  {
   "cell_type": "code",
   "execution_count": null,
   "metadata": {},
   "outputs": [],
   "source": []
  },
  {
   "cell_type": "code",
   "execution_count": null,
   "metadata": {},
   "outputs": [],
   "source": []
  },
  {
   "cell_type": "code",
   "execution_count": 16,
   "metadata": {},
   "outputs": [],
   "source": [
    "class Korzina:\n",
    "    def __init__(self, limit=100):\n",
    "        self.limit = limit\n",
    "        \n",
    "        self.bigquantity = 0\n",
    "        self.litllequantity = 0\n",
    "    def add_big_things(self, bigquantity):\n",
    "        self.bigquantity = self.bigquantity + bigquantity\n",
    "        \n",
    "        if self.bigquantity*5 + self.litllequantity > self.limit:\n",
    "            print('Вместимость ограничена!' + ' ' '5 * bigquantity + littlequantity должно быть не более' + ' ' +  str(self.limit))\n",
    "            self.bigquantity = self.bigquantity - bigquantity\n",
    "\n",
    "    def add_little_things(self, litllequantity):\n",
    "        self.litllequantity = self.litllequantity + litllequantity\n",
    "        \n",
    "        if self.bigquantity*5 + self.litllequantity > self.limit:\n",
    "            print('Вместимость ограничена!' + ' ' '5 * bigquantity + littlequantity должно быть не более' + ' ' +  str(self.limit))\n",
    "            self.litllequantity = self.litllequantity - litllequantity            \n",
    "            \n",
    "            \n",
    "class Paket:\n",
    "    def __init__(self, limit=100):\n",
    "        self.limit = limit\n",
    "        \n",
    "        self.bigquantity = 0\n",
    "        self.litllequantity = 0\n",
    "    def add_big_things(self, bigquantity):\n",
    "        self.bigquantity = self.bigquantity + bigquantity\n",
    "        \n",
    "        if self.bigquantity*5 + self.litllequantity > self.limit:\n",
    "            print('Вместимость ограничена!' + ' ' '5 * bigquantity + littlequantity должно быть не более' + ' ' +  str(self.limit))\n",
    "            self.bigquantity = self.bigquantity - bigquantity\n",
    "\n",
    "    def add_little_things(self, litllequantity):\n",
    "        self.litllequantity = self.litllequantity + litllequantity\n",
    "        \n",
    "        if self.bigquantity*5 + self.litllequantity > self.limit:\n",
    "            print('Вместимость ограничена!' + ' ' '5 * bigquantity + littlequantity должно быть не более' + ' ' +  str(self.limit))\n",
    "            self.litllequantity = self.litllequantity - litllequantity   \n",
    "\n",
    "\n",
    "class Things:\n",
    "    def __init__(self, quantity=0):\n",
    "        self.quantity = quantity"
   ]
  },
  {
   "cell_type": "code",
   "execution_count": 17,
   "metadata": {},
   "outputs": [],
   "source": [
    "korzina = Korzina()"
   ]
  },
  {
   "cell_type": "code",
   "execution_count": 18,
   "metadata": {},
   "outputs": [],
   "source": [
    "korzina.add_big_things(15)"
   ]
  },
  {
   "cell_type": "code",
   "execution_count": 27,
   "metadata": {},
   "outputs": [
    {
     "name": "stdout",
     "output_type": "stream",
     "text": [
      "Вместимость ограничена! 5 * bigquantity + littlequantity должно быть не более 100\n"
     ]
    }
   ],
   "source": [
    "korzina.add_little_things(3)"
   ]
  },
  {
   "cell_type": "code",
   "execution_count": 30,
   "metadata": {},
   "outputs": [
    {
     "data": {
      "text/plain": [
       "15"
      ]
     },
     "execution_count": 30,
     "metadata": {},
     "output_type": "execute_result"
    }
   ],
   "source": [
    "korzina.bigquantity"
   ]
  },
  {
   "cell_type": "code",
   "execution_count": 31,
   "metadata": {},
   "outputs": [
    {
     "data": {
      "text/plain": [
       "24"
      ]
     },
     "execution_count": 31,
     "metadata": {},
     "output_type": "execute_result"
    }
   ],
   "source": [
    "korzina.litllequantity"
   ]
  }
 ],
 "metadata": {
  "kernelspec": {
   "display_name": "Python 3",
   "language": "python",
   "name": "python3"
  },
  "language_info": {
   "codemirror_mode": {
    "name": "ipython",
    "version": 3
   },
   "file_extension": ".py",
   "mimetype": "text/x-python",
   "name": "python",
   "nbconvert_exporter": "python",
   "pygments_lexer": "ipython3",
   "version": "3.7.1"
  }
 },
 "nbformat": 4,
 "nbformat_minor": 2
}
